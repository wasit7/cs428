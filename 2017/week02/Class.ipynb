{
 "cells": [
  {
   "cell_type": "markdown",
   "metadata": {},
   "source": [
    "Class"
   ]
  },
  {
   "cell_type": "code",
   "execution_count": 2,
   "metadata": {
    "collapsed": true
   },
   "outputs": [],
   "source": [
    "class Rectangle(object):\n",
    "    def __init__(self, w=0, h=0):\n",
    "        self.w=w\n",
    "        self.h=h\n",
    "    \n",
    "    def get_area(self):\n",
    "        return self.w*self.h\n",
    "    \n",
    "    def __str__(self):\n",
    "        return \"w:{}, h:{}, area:{}\".format(self.w, self.h, self.get_area())\n",
    "            "
   ]
  },
  {
   "cell_type": "code",
   "execution_count": 4,
   "metadata": {},
   "outputs": [
    {
     "name": "stdout",
     "output_type": "stream",
     "text": [
      "w:0, h:0, area:0\n"
     ]
    }
   ],
   "source": [
    "rec = Rectangle()\n",
    "print(rec)"
   ]
  },
  {
   "cell_type": "code",
   "execution_count": 6,
   "metadata": {},
   "outputs": [
    {
     "name": "stdout",
     "output_type": "stream",
     "text": [
      "w:3, h:4, area:12\n"
     ]
    }
   ],
   "source": [
    "rec = Rectangle(w=3,h=4)\n",
    "print(rec)"
   ]
  },
  {
   "cell_type": "markdown",
   "metadata": {},
   "source": [
    "# Inheritance\n",
    "## level2\n",
    "* bullet\n",
    "* bullet\n",
    "$e^x$"
   ]
  },
  {
   "cell_type": "code",
   "execution_count": 7,
   "metadata": {
    "collapsed": true
   },
   "outputs": [],
   "source": [
    "class Square(Rectangle):\n",
    "    def __init__(self, e=0):\n",
    "        self.w=e\n",
    "        self.h=e"
   ]
  },
  {
   "cell_type": "code",
   "execution_count": 8,
   "metadata": {},
   "outputs": [
    {
     "name": "stdout",
     "output_type": "stream",
     "text": [
      "w:5, h:5, area:25\n"
     ]
    }
   ],
   "source": [
    "sq=Square(5)\n",
    "print(sq)"
   ]
  },
  {
   "cell_type": "code",
   "execution_count": null,
   "metadata": {
    "collapsed": true
   },
   "outputs": [],
   "source": []
  }
 ],
 "metadata": {
  "kernelspec": {
   "display_name": "Python 2",
   "language": "python",
   "name": "python2"
  },
  "language_info": {
   "codemirror_mode": {
    "name": "ipython",
    "version": 2
   },
   "file_extension": ".py",
   "mimetype": "text/x-python",
   "name": "python",
   "nbconvert_exporter": "python",
   "pygments_lexer": "ipython2",
   "version": "2.7.13"
  }
 },
 "nbformat": 4,
 "nbformat_minor": 2
}
