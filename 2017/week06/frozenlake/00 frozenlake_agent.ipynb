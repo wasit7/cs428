{
 "cells": [
  {
   "cell_type": "code",
   "execution_count": 26,
   "metadata": {
    "scrolled": false
   },
   "outputs": [
    {
     "name": "stderr",
     "output_type": "stream",
     "text": [
      "[2017-09-23 12:10:56,456] Making new env: FrozenLake-v0\n"
     ]
    },
    {
     "name": "stdout",
     "output_type": "stream",
     "text": [
      "15.0\n"
     ]
    }
   ],
   "source": [
    "import gym\n",
    "env = gym.make('FrozenLake-v0')\n",
    "policy=[0,2,1,0,\n",
    "        0,0,1,0,\n",
    "        2,2,1,0,\n",
    "        0,2,2,0]\n",
    "sum_reward=0\n",
    "for episode in range(100):\n",
    "    obs=env.reset()\n",
    "    done=False\n",
    "    #print(\"episode: {}\".format(episode))\n",
    "    while not done:\n",
    "        obs,reward,done,info=env.step(policy[obs])\n",
    "    sum_reward+=reward\n",
    "    #env.render()\n",
    "print(sum_reward)    "
   ]
  },
  {
   "cell_type": "code",
   "execution_count": null,
   "metadata": {
    "collapsed": true
   },
   "outputs": [],
   "source": []
  }
 ],
 "metadata": {
  "kernelspec": {
   "display_name": "Python [conda root]",
   "language": "python",
   "name": "conda-root-py"
  },
  "language_info": {
   "codemirror_mode": {
    "name": "ipython",
    "version": 2
   },
   "file_extension": ".py",
   "mimetype": "text/x-python",
   "name": "python",
   "nbconvert_exporter": "python",
   "pygments_lexer": "ipython2",
   "version": "2.7.13"
  }
 },
 "nbformat": 4,
 "nbformat_minor": 2
}
