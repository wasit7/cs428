{
 "cells": [
  {
   "cell_type": "code",
   "execution_count": 5,
   "metadata": {
    "collapsed": true
   },
   "outputs": [],
   "source": [
    "# %matplotlib inline\n",
    "# from matplotlib import pyplot as plt\n",
    "import gym\n",
    "import numpy as np\n",
    "# from gym.envs.registration import register\n",
    "# from gym import wrappers\n",
    "# import shutil"
   ]
  },
  {
   "cell_type": "code",
   "execution_count": 6,
   "metadata": {},
   "outputs": [
    {
     "name": "stderr",
     "output_type": "stream",
     "text": [
      "[2017-08-01 12:24:33,630] Making new env: Taxi-v2\n"
     ]
    }
   ],
   "source": [
    "env = gym.make('Taxi-v2')"
   ]
  },
  {
   "cell_type": "code",
   "execution_count": 16,
   "metadata": {},
   "outputs": [],
   "source": [
    "s=env.reset()"
   ]
  },
  {
   "cell_type": "code",
   "execution_count": 15,
   "metadata": {},
   "outputs": [
    {
     "name": "stdout",
     "output_type": "stream",
     "text": [
      "+---------+\n",
      "|R: | : :\u001b[34;1mG\u001b[0m|\n",
      "| : : : : |\n",
      "| : : : : |\n",
      "| | : | : |\n",
      "|Y| : |\u001b[35mB\u001b[0m:\u001b[43m \u001b[0m|\n",
      "+---------+\n",
      "\n"
     ]
    }
   ],
   "source": [
    "env.render()"
   ]
  },
  {
   "cell_type": "code",
   "execution_count": 17,
   "metadata": {},
   "outputs": [
    {
     "data": {
      "text/plain": [
       "329"
      ]
     },
     "execution_count": 17,
     "metadata": {},
     "output_type": "execute_result"
    }
   ],
   "source": [
    "s"
   ]
  },
  {
   "cell_type": "code",
   "execution_count": 19,
   "metadata": {},
   "outputs": [
    {
     "data": {
      "text/plain": [
       "152"
      ]
     },
     "execution_count": 19,
     "metadata": {},
     "output_type": "execute_result"
    }
   ],
   "source": [
    "env.reset()"
   ]
  },
  {
   "cell_type": "code",
   "execution_count": 21,
   "metadata": {},
   "outputs": [
    {
     "data": {
      "text/plain": [
       "(252, -1, False, {'prob': 1.0})"
      ]
     },
     "execution_count": 21,
     "metadata": {},
     "output_type": "execute_result"
    }
   ],
   "source": [
    "env.step(0)"
   ]
  },
  {
   "cell_type": "code",
   "execution_count": 22,
   "metadata": {},
   "outputs": [
    {
     "data": {
      "text/plain": [
       "<bound method TimeLimit.render of <TimeLimit<TaxiEnv<Taxi-v2>>>>"
      ]
     },
     "execution_count": 22,
     "metadata": {},
     "output_type": "execute_result"
    }
   ],
   "source": [
    "env.render()"
   ]
  },
  {
   "cell_type": "code",
   "execution_count": 77,
   "metadata": {
    "collapsed": true
   },
   "outputs": [],
   "source": [
    "def cap(x, down, up, ninter):\n",
    "    if x<down:\n",
    "        x=down\n",
    "    if up<=x:\n",
    "        x=up-1\n",
    "    step=(up-down)/ninter\n",
    "    #print x\n",
    "    return (x-down)//step"
   ]
  },
  {
   "cell_type": "code",
   "execution_count": 80,
   "metadata": {},
   "outputs": [
    {
     "name": "stdout",
     "output_type": "stream",
     "text": [
      "8 0\n",
      "9 0\n",
      "10 0\n",
      "11 0\n",
      "12 0\n",
      "13 0\n",
      "14 1\n",
      "15 1\n",
      "16 1\n",
      "17 1\n",
      "18 2\n",
      "19 2\n",
      "20 2\n",
      "21 2\n",
      "22 3\n",
      "23 3\n",
      "24 3\n",
      "25 3\n",
      "26 4\n",
      "27 4\n",
      "28 4\n",
      "29 4\n",
      "30 4\n",
      "31 4\n",
      "32 4\n"
     ]
    }
   ],
   "source": [
    "down=10\n",
    "up=30\n",
    "for i in range(down-2, up+3):\n",
    "    print \"%s %s\"%(i,cap(i,down,up,5))"
   ]
  },
  {
   "cell_type": "code",
   "execution_count": 222,
   "metadata": {},
   "outputs": [],
   "source": [
    "class Env(object):\n",
    "    def __init__(self):\n",
    "        self.n_action=16\n",
    "        self.n_state=500\n",
    "    def get_state(self):        \n",
    "        x1=cap(self.temp, 10, 25, 5)\n",
    "        x2=cap(self.humi, 10, 100, 5)\n",
    "        x3=cap(self.co2, 300, 3000, 5)\n",
    "        x4=self.light\n",
    "        x5=self.watp\n",
    "        return x1*5*5*2*2 + x2*5*5*2*2 + x3*2*2 + x4*2 +x5\n",
    "    \n",
    "    def reset(self, temp=25, humi=80, co2=200, light=0, watp=0):        \n",
    "        self.temp=temp\n",
    "        self.humi=humi\n",
    "        self.co2=co2\n",
    "        self.light=light\n",
    "        self.watp=watp\n",
    "        return self.get_state()\n",
    "    \n",
    "    def set_target(self, temp=25, humi=80, co2=200, light=0, watp=0):\n",
    "        self.t_temp=temp\n",
    "        self.t_humi=humi\n",
    "        self.t_co2=co2\n",
    "        self.t_light=light\n",
    "        self.t_watp=watp\n",
    "        return self.get_state()\n",
    "    \n",
    "    def get_reward(self):\n",
    "        if self.t_temp-1<self.temp and self.temp<=self.t_temp+1:\n",
    "            if self.t_humi-5<self.humi and self.humi<=self.t_humi+5:\n",
    "                return 1\n",
    "        return -0.1\n",
    "    \n",
    "    def code2int(self,code):\n",
    "        #(comp,mist,light,watp)\n",
    "        return code[0]*8 + code[1]*4 + code[2]*2 + code[3]\n",
    "    \n",
    "    def int2code(self,a=0):\n",
    "        b=bin(16+a)\n",
    "        return int(b[-4]),int(b[-3]),int(b[-2]),int(b[-1])\n",
    "    \n",
    "    def step(self,a):\n",
    "        comp,mist,light,watp = self.int2code(a)\n",
    "        if comp==1:\n",
    "            self.humi-=5\n",
    "            self.temp-=1\n",
    "        if mist==1:\n",
    "            self.humi+=5\n",
    "        if light==1:\n",
    "            self.humi+=1\n",
    "            self.temp+=1\n",
    "        if watp==1:\n",
    "            self.humi+=1\n",
    "        return self.get_state(), self.get_reward(), 0, 0\n",
    "    \n",
    "    def render(self):\n",
    "        print( \"temp:{}, humi:{}, co2:{}, light:{}, watp{}\".format(\n",
    "             self.temp, self.humi, self.co2, self.light, self.watp))"
   ]
  },
  {
   "cell_type": "code",
   "execution_count": 223,
   "metadata": {
    "collapsed": true
   },
   "outputs": [],
   "source": [
    "env=Env()"
   ]
  },
  {
   "cell_type": "code",
   "execution_count": 224,
   "metadata": {},
   "outputs": [
    {
     "data": {
      "text/plain": [
       "(1, 1, 1, 1)"
      ]
     },
     "execution_count": 224,
     "metadata": {},
     "output_type": "execute_result"
    }
   ],
   "source": [
    "env.int2code(15)"
   ]
  },
  {
   "cell_type": "code",
   "execution_count": 225,
   "metadata": {},
   "outputs": [
    {
     "data": {
      "text/plain": [
       "15"
      ]
     },
     "execution_count": 225,
     "metadata": {},
     "output_type": "execute_result"
    }
   ],
   "source": [
    "env.code2int( (1,1,1,1) )"
   ]
  },
  {
   "cell_type": "code",
   "execution_count": 226,
   "metadata": {},
   "outputs": [
    {
     "data": {
      "text/plain": [
       "700"
      ]
     },
     "execution_count": 226,
     "metadata": {},
     "output_type": "execute_result"
    }
   ],
   "source": [
    "env.reset()"
   ]
  },
  {
   "cell_type": "code",
   "execution_count": 227,
   "metadata": {},
   "outputs": [
    {
     "data": {
      "text/plain": [
       "700"
      ]
     },
     "execution_count": 227,
     "metadata": {},
     "output_type": "execute_result"
    }
   ],
   "source": [
    "env.set_target(temp=10, humi=90, co2=200, light=0, watp=0)"
   ]
  },
  {
   "cell_type": "code",
   "execution_count": 228,
   "metadata": {},
   "outputs": [
    {
     "data": {
      "text/plain": [
       "15"
      ]
     },
     "execution_count": 228,
     "metadata": {},
     "output_type": "execute_result"
    }
   ],
   "source": [
    "env.code2int( code )"
   ]
  },
  {
   "cell_type": "code",
   "execution_count": 235,
   "metadata": {},
   "outputs": [
    {
     "name": "stdout",
     "output_type": "stream",
     "text": [
      "(700, -0.1, 0, 0)\n",
      "temp:23, humi:74, co2:200, light:0, watp0\n",
      "None\n"
     ]
    }
   ],
   "source": [
    "#(comp,mist,light,watp)\n",
    "code=(0,0,0,1)\n",
    "print env.step(env.code2int( code ))\n",
    "print env.render()"
   ]
  },
  {
   "cell_type": "code",
   "execution_count": 90,
   "metadata": {},
   "outputs": [
    {
     "data": {
      "text/plain": [
       "700"
      ]
     },
     "execution_count": 90,
     "metadata": {},
     "output_type": "execute_result"
    }
   ],
   "source": [
    "env.step(0,0,0,0)"
   ]
  },
  {
   "cell_type": "code",
   "execution_count": 180,
   "metadata": {},
   "outputs": [
    {
     "data": {
      "text/plain": [
       "'0b10000'"
      ]
     },
     "execution_count": 180,
     "metadata": {},
     "output_type": "execute_result"
    }
   ],
   "source": [
    "bin(16+0)"
   ]
  },
  {
   "cell_type": "code",
   "execution_count": null,
   "metadata": {
    "collapsed": true
   },
   "outputs": [],
   "source": [
    "env"
   ]
  }
 ],
 "metadata": {
  "kernelspec": {
   "display_name": "Python 2",
   "language": "python",
   "name": "python2"
  },
  "language_info": {
   "codemirror_mode": {
    "name": "ipython",
    "version": 2
   },
   "file_extension": ".py",
   "mimetype": "text/x-python",
   "name": "python",
   "nbconvert_exporter": "python",
   "pygments_lexer": "ipython2",
   "version": "2.7.13"
  }
 },
 "nbformat": 4,
 "nbformat_minor": 2
}
