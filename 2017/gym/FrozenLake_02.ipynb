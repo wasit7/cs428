{
 "cells": [
  {
   "cell_type": "code",
   "execution_count": 1,
   "metadata": {
    "collapsed": true
   },
   "outputs": [],
   "source": [
    "%matplotlib inline\n",
    "from matplotlib import pyplot as plt\n",
    "import gym\n",
    "import numpy as np\n",
    "from gym.envs.registration import register\n",
    "from gym import wrappers\n",
    "import shutil"
   ]
  },
  {
   "cell_type": "code",
   "execution_count": 2,
   "metadata": {
    "collapsed": true
   },
   "outputs": [],
   "source": [
    "# register(\n",
    "#     id='FrozenLakeNotSlippery-v0',\n",
    "#     entry_point='gym.envs.toy_text:FrozenLakeEnv',\n",
    "#     kwargs={'map_name' : '4x4', 'is_slippery': False},\n",
    "#     max_episode_steps=100,\n",
    "#     reward_threshold=0.78, # optimum = .8196\n",
    "# )\n",
    "\n",
    "#env = gym.make('FrozenLakeNotSlippery-v0')\n"
   ]
  },
  {
   "cell_type": "code",
   "execution_count": 3,
   "metadata": {},
   "outputs": [
    {
     "name": "stderr",
     "output_type": "stream",
     "text": [
      "[2017-09-23 11:44:19,654] Making new env: FrozenLake-v0\n",
      "[2017-09-23 11:44:19,992] Creating monitor directory /tmp/FrozenLake_01\n"
     ]
    }
   ],
   "source": [
    "env = gym.make('FrozenLake-v0')\n",
    "shutil.rmtree('/tmp/FrozenLake_01') \n",
    "env = wrappers.Monitor(env, '/tmp/FrozenLake_01')"
   ]
  },
  {
   "cell_type": "code",
   "execution_count": 4,
   "metadata": {
    "scrolled": false
   },
   "outputs": [
    {
     "name": "stderr",
     "output_type": "stream",
     "text": [
      "[2017-09-23 11:44:20,092] Starting new video recorder writing to C:\\tmp\\FrozenLake_01\\openaigym.video.0.11972.video000000.json\n",
      "[2017-09-23 11:44:20,138] Starting new video recorder writing to C:\\tmp\\FrozenLake_01\\openaigym.video.0.11972.video000001.json\n",
      "[2017-09-23 11:44:20,154] Starting new video recorder writing to C:\\tmp\\FrozenLake_01\\openaigym.video.0.11972.video000008.json\n",
      "[2017-09-23 11:44:20,180] Starting new video recorder writing to C:\\tmp\\FrozenLake_01\\openaigym.video.0.11972.video000027.json\n",
      "[2017-09-23 11:44:20,207] Starting new video recorder writing to C:\\tmp\\FrozenLake_01\\openaigym.video.0.11972.video000064.json\n",
      "[2017-09-23 11:44:20,262] Starting new video recorder writing to C:\\tmp\\FrozenLake_01\\openaigym.video.0.11972.video000125.json\n",
      "[2017-09-23 11:44:20,319] Starting new video recorder writing to C:\\tmp\\FrozenLake_01\\openaigym.video.0.11972.video000216.json\n",
      "[2017-09-23 11:44:20,434] Starting new video recorder writing to C:\\tmp\\FrozenLake_01\\openaigym.video.0.11972.video000343.json\n",
      "[2017-09-23 11:44:20,576] Starting new video recorder writing to C:\\tmp\\FrozenLake_01\\openaigym.video.0.11972.video000512.json\n",
      "[2017-09-23 11:44:20,770] Starting new video recorder writing to C:\\tmp\\FrozenLake_01\\openaigym.video.0.11972.video000729.json\n",
      "[2017-09-23 11:44:21,009] Starting new video recorder writing to C:\\tmp\\FrozenLake_01\\openaigym.video.0.11972.video001000.json\n"
     ]
    },
    {
     "name": "stdout",
     "output_type": "stream",
     "text": [
      "Score over time: 0.7\n"
     ]
    },
    {
     "data": {
      "text/plain": [
       "[<matplotlib.lines.Line2D at 0x94da630>]"
      ]
     },
     "execution_count": 4,
     "metadata": {},
     "output_type": "execute_result"
    },
    {
     "data": {
      "image/png": "[encoded data removed]",
      "text/plain": [
       "<matplotlib.figure.Figure at 0x5ffa8d0>"
      ]
     },
     "metadata": {},
     "output_type": "display_data"
    }
   ],
   "source": [
    "#Initialize table with all zeros\n",
    "#Q = np.zeros([env.observation_space.n,env.action_space.n])\n",
    "Q= np.zeros((env.observation_space.n, env.action_space.n))\n",
    "# Set learning p-arameters\n",
    "y = 0.95\n",
    "num_episodes = 2000\n",
    "exp=np.zeros((num_episodes,3))\n",
    "rList = []\n",
    "alpha=np.log(0.000001)/num_episodes\n",
    "for i in range(num_episodes):\n",
    "    lr= np.exp(alpha*i)\n",
    "    #Reset environment and get first new observation\n",
    "    s = env.reset()\n",
    "    rAll = 0\n",
    "    done=False\n",
    "    #The Q-Table learning algorithm\n",
    "    while done==False:\n",
    "        #Choose an action by greedily (with noise) picking from Q table\n",
    "        if np.random.rand() < lr*0.1:\n",
    "            a = np.random.randint(env.action_space.n)\n",
    "        else:\n",
    "            a = np.argmax(Q[s,:] )\n",
    "        #Get new state and reward from environment\n",
    "        s1,reward,done,_ = env.step(a)\n",
    "        if done:\n",
    "            r = 1.0 if reward > 0.0 else -1.0\n",
    "        else:\n",
    "            r = -0.01\n",
    "        #exp[i,:]=\n",
    "        #Update Q-Table with new knowledge\n",
    "        Q[s,a] = Q[s,a] +  lr*(r + y*np.max(Q[s1,:]) - Q[s,a])\n",
    "        rAll += reward\n",
    "        s = s1\n",
    "        if done == True:\n",
    "            break\n",
    "    #jList.append(j)\n",
    "    rList.append(rAll)\n",
    "print \"Score over time: \" +  str(sum(rList[-100:])/100.0)\n",
    "plt.plot(np.convolve(np.ones(100),rList,\"valid\"))"
   ]
  },
  {
   "cell_type": "code",
   "execution_count": 5,
   "metadata": {},
   "outputs": [
    {
     "name": "stdout",
     "output_type": "stream",
     "text": [
      "Final Q-Table Values\n",
      "[[-0.0612323  -0.16672225 -0.16147791 -0.17348907]\n",
      " [-0.40602965 -0.72395101 -0.53345186 -0.23774454]\n",
      " [-0.50622785 -0.35035067 -0.71084465 -0.56779257]\n",
      " [-0.68078511 -0.47303975 -0.98290344 -0.36735489]\n",
      " [-0.03295921 -0.22829065 -0.41230718 -0.7295173 ]\n",
      " [ 0.          0.          0.          0.        ]\n",
      " [-0.45243359 -0.99399385 -0.81453872 -0.94504978]\n",
      " [ 0.          0.          0.          0.        ]\n",
      " [-0.40622839 -0.30872104 -0.29732835  0.02640655]\n",
      " [-0.38106994  0.12734861 -0.36277713 -0.47602276]\n",
      " [ 0.08421519 -0.73093086 -0.90701847 -0.92906849]\n",
      " [ 0.          0.          0.          0.        ]\n",
      " [ 0.          0.          0.          0.        ]\n",
      " [-0.41429481 -0.05380686  0.33282711 -0.33395888]\n",
      " [ 0.20569128  0.63330078  0.30905533  0.27626907]\n",
      " [ 0.          0.          0.          0.        ]]\n"
     ]
    }
   ],
   "source": [
    "print \"Final Q-Table Values\"\n",
    "print Q"
   ]
  },
  {
   "cell_type": "code",
   "execution_count": 6,
   "metadata": {},
   "outputs": [
    {
     "name": "stderr",
     "output_type": "stream",
     "text": [
      "[2017-09-23 11:44:22,157] Starting new video recorder writing to C:\\tmp\\FrozenLake_01\\openaigym.video.0.11972.video002000.json\n"
     ]
    },
    {
     "name": "stdout",
     "output_type": "stream",
     "text": [
      "  (Down)\n",
      "SFFF\n",
      "FHFH\n",
      "FFFH\n",
      "HFF\u001b[41mG\u001b[0m\n",
      "35\n"
     ]
    }
   ],
   "source": [
    "s = env.reset()\n",
    "d=False\n",
    "n=0\n",
    "while d==False:\n",
    "    n+=1\n",
    "    a = np.argmax(Q[s,:])\n",
    "    s,r,d,x = env.step(a)\n",
    "    #print(\"%s %s %s %s\"%(s,r,d,x))\n",
    "env.render()\n",
    "print n"
   ]
  },
  {
   "cell_type": "code",
   "execution_count": 7,
   "metadata": {
    "scrolled": true
   },
   "outputs": [
    {
     "name": "stderr",
     "output_type": "stream",
     "text": [
      "[2017-09-23 11:44:22,342] Finished writing results. You can upload them to the scoreboard via gym.upload('C:\\\\tmp\\\\FrozenLake_01')\n",
      "[2017-09-23 11:44:22,361] [FrozenLake-v0] Uploading 2001 episodes of training data\n",
      "[2017-09-23 11:44:26,211] [FrozenLake-v0] Uploading videos of 12 training episodes (1518 bytes)\n",
      "[2017-09-23 11:44:26,887] [FrozenLake-v0] Creating evaluation object from /tmp/FrozenLake_01 with learning curve and training video\n",
      "[2017-09-23 11:44:27,252] \n",
      "****************************************************\n",
      "You successfully uploaded your evaluation on FrozenLake-v0 to\n",
      "OpenAI Gym! You can find it at:\n",
      "\n",
      "    https://gym.openai.com/evaluations/eval_wQ8rHMavTga9cqN4F9Row\n",
      "\n",
      "****************************************************\n"
     ]
    }
   ],
   "source": [
    "env.close()\n",
    "gym.upload('/tmp/FrozenLake_01', api_key='sk_o9OoYpSkKamkW8MrKuHw')"
   ]
  },
  {
   "cell_type": "code",
   "execution_count": null,
   "metadata": {
    "collapsed": true
   },
   "outputs": [],
   "source": []
  }
 ],
 "metadata": {
  "kernelspec": {
   "display_name": "Python [default]",
   "language": "python",
   "name": "python2"
  },
  "language_info": {
   "codemirror_mode": {
    "name": "ipython",
    "version": 2
   },
   "file_extension": ".py",
   "mimetype": "text/x-python",
   "name": "python",
   "nbconvert_exporter": "python",
   "pygments_lexer": "ipython2",
   "version": "2.7.13"
  }
 },
 "nbformat": 4,
 "nbformat_minor": 2
}
