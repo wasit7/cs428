{
 "cells": [
  {
   "cell_type": "code",
   "execution_count": 9,
   "metadata": {},
   "outputs": [
    {
     "name": "stderr",
     "output_type": "stream",
     "text": [
      "[2017-08-01 10:36:39,884] Making new env: FrozenLake-v0\n"
     ]
    }
   ],
   "source": [
    "%matplotlib inline\n",
    "from matplotlib import pyplot as plt\n",
    "import gym\n",
    "import numpy as np\n",
    "\n",
    "env = gym.make('FrozenLake-v0')"
   ]
  },
  {
   "cell_type": "code",
   "execution_count": 10,
   "metadata": {},
   "outputs": [],
   "source": [
    "# from gym.envs.registration import register\n",
    "# register(\n",
    "#     id='FrozenLakeNotSlippery-v0',\n",
    "#     entry_point='gym.envs.toy_text:FrozenLakeEnv',\n",
    "#     kwargs={'map_name' : '4x4', 'is_slippery': False},\n",
    "#     max_episode_steps=100,\n",
    "#     reward_threshold=0.78, # optimum = .8196\n",
    "# )\n",
    "\n",
    "# env = gym.make('FrozenLakeNotSlippery-v0')"
   ]
  },
  {
   "cell_type": "markdown",
   "metadata": {},
   "source": [
    "# Train"
   ]
  },
  {
   "cell_type": "code",
   "execution_count": 11,
   "metadata": {},
   "outputs": [
    {
     "name": "stdout",
     "output_type": "stream",
     "text": [
      "Score over time: 0.76\n"
     ]
    },
    {
     "data": {
      "text/plain": [
       "[<matplotlib.lines.Line2D at 0xaea5f28>]"
      ]
     },
     "execution_count": 11,
     "metadata": {},
     "output_type": "execute_result"
    },
    {
     "data": {
      "image/png": "[encoded data removed]",
      "text/plain": [
       "<matplotlib.figure.Figure at 0x6a46588>"
      ]
     },
     "metadata": {},
     "output_type": "display_data"
    }
   ],
   "source": [
    "Q= np.zeros((env.observation_space.n, env.action_space.n))\n",
    "y = 0.95\n",
    "lr = 0.1\n",
    "num_episodes = 2000\n",
    "\n",
    "rList = []\n",
    "alpha=np.log(0.000001)/num_episodes\n",
    "for i in range(num_episodes):\n",
    "    lr= np.exp(alpha*i) #adaptive learning start with exploration\n",
    "    s = env.reset()\n",
    "    rAll = 0\n",
    "    done=False\n",
    "    #The Q-Table learning algorithm\n",
    "    while done==False:\n",
    "        #randomly exploration of precisely choose best action\n",
    "        if np.random.rand() < lr*0.1:\n",
    "            a = np.random.randint(env.action_space.n)\n",
    "        else:\n",
    "            a = np.argmax(Q[s,:] )\n",
    "        #get new state and reward from environment\n",
    "        s1,reward,done,_ = env.step(a)\n",
    "        #giving panalty to Hole and no move\n",
    "        if done:\n",
    "            r = 1.0 if reward > 0.0 else -1.0\n",
    "        else:\n",
    "            r = -0.01\n",
    "        #Update Q-Table with new knowledge\n",
    "        Q[s,a] = Q[s,a] +  lr*(r + y*np.max(Q[s1,:]) - Q[s,a])\n",
    "        rAll += reward\n",
    "        s = s1\n",
    "        if done == True:\n",
    "            break\n",
    "    rList.append(rAll)\n",
    "print \"Score over time: \" +  str(sum(rList[-100:])/100.0)\n",
    "plt.plot(np.convolve(np.ones(100),rList,\"valid\"))"
   ]
  },
  {
   "cell_type": "markdown",
   "metadata": {},
   "source": [
    "# Play"
   ]
  },
  {
   "cell_type": "code",
   "execution_count": 8,
   "metadata": {},
   "outputs": [
    {
     "name": "stdout",
     "output_type": "stream",
     "text": [
      "  (Down)\n",
      "SFFF\n",
      "FHFH\n",
      "FFFH\n",
      "HFF\u001b[41mG\u001b[0m\n",
      "30\n"
     ]
    }
   ],
   "source": [
    "s = env.reset()\n",
    "d=False\n",
    "n=0\n",
    "while d==False:\n",
    "    n+=1\n",
    "    a = np.argmax(Q[s,:])\n",
    "    s,r,d,x = env.step(a)\n",
    "    #print(\"%s %s %s %s\"%(s,r,d,x))\n",
    "env.render()\n",
    "print n"
   ]
  },
  {
   "cell_type": "code",
   "execution_count": null,
   "metadata": {
    "collapsed": true
   },
   "outputs": [],
   "source": []
  }
 ],
 "metadata": {
  "kernelspec": {
   "display_name": "Python 2",
   "language": "python",
   "name": "python2"
  },
  "language_info": {
   "codemirror_mode": {
    "name": "ipython",
    "version": 2
   },
   "file_extension": ".py",
   "mimetype": "text/x-python",
   "name": "python",
   "nbconvert_exporter": "python",
   "pygments_lexer": "ipython2",
   "version": "2.7.13"
  }
 },
 "nbformat": 4,
 "nbformat_minor": 2
}
